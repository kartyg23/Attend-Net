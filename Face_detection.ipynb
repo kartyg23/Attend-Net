{
 "cells": [
  {
   "cell_type": "code",
   "execution_count": 1,
   "metadata": {},
   "outputs": [],
   "source": [
    "# firstly import the necessary libraries :\n",
    "\n",
    "import cv2\n",
    "import matplotlib.pyplot as plt\n",
    "import numpy as np\n",
    "import os"
   ]
  },
  {
   "cell_type": "code",
   "execution_count": 2,
   "metadata": {},
   "outputs": [
    {
     "name": "stdout",
     "output_type": "stream",
     "text": [
      "original dimensions :  (3024, 4032, 3)\n",
      "resized dimensions :  (3024, 4032, 3)\n"
     ]
    }
   ],
   "source": [
    "image_path = 'class_attendance.jpg'\n",
    "image = cv2.imread(image_path,cv2.IMREAD_UNCHANGED)\n",
    "print('original dimensions : ',image.shape)\n",
    "\n",
    "# the following code is for images which need some scaling :\n",
    "# scale_percent=50\n",
    "# width=int(image.shape[1]*scale_percent/100)\n",
    "# height=int(image.shape[0]*scale_percent/100)\n",
    "# dim=(width,height)\n",
    "\n",
    "# for this example we are not resizing the image dimensions :\n",
    "resized=image\n",
    "# resized = cv2.resize(image, dim, interpolation = cv2.INTER_AREA)\n",
    "\n",
    "print('resized dimensions : ',resized.shape)\n",
    "\n",
    "image_rgb = cv2.cvtColor(resized, cv2.COLOR_BGR2RGB)"
   ]
  },
  {
   "cell_type": "code",
   "execution_count": 3,
   "metadata": {},
   "outputs": [],
   "source": [
    "# we are going to use the haar cascade classifier for face detection :\n",
    "\n",
    "face_cascade = cv2.CascadeClassifier(cv2.data.haarcascades + 'haarcascade_frontalface_default.xml')"
   ]
  },
  {
   "cell_type": "code",
   "execution_count": 4,
   "metadata": {},
   "outputs": [],
   "source": [
    "# convert the image to gray scale as haar cascade works in gray scale only :\n",
    "\n",
    "gray_image = cv2.cvtColor(resized, cv2.COLOR_BGR2GRAY)\n",
    "\n",
    "# tune the hyperparameters such as scale factor and minNeighbours for best detection :\n",
    "\n",
    "faces = face_cascade.detectMultiScale(gray_image, scaleFactor=1.1, minNeighbors=5)"
   ]
  },
  {
   "cell_type": "code",
   "execution_count": 5,
   "metadata": {},
   "outputs": [
    {
     "name": "stdout",
     "output_type": "stream",
     "text": [
      "image_rgb dimensions :  (3024, 4032, 3)\n",
      "final dimensions :  (3024, 4032, 3)\n"
     ]
    },
    {
     "data": {
      "text/plain": [
       "True"
      ]
     },
     "execution_count": 5,
     "metadata": {},
     "output_type": "execute_result"
    }
   ],
   "source": [
    "# we need to adjust the size of window in cv 2 to display the image\n",
    "\n",
    "cv2.namedWindow(\"output\", cv2.WINDOW_NORMAL)       \n",
    "cv2.resizeWindow(\"output\", resized.shape[0],resized.shape[1])    \n",
    "for (x, y, w, h) in faces:\n",
    "    cv2.rectangle(image_rgb, (x, y), (x+w, y+h), (0, 255, 0), 2)\n",
    "    cv2.imshow(\"output\", image_rgb)\n",
    "#     cv2.waitKey(0)\n",
    "cv2.destroyAllWindows()\n",
    "print('image_rgb dimensions : ',image_rgb.shape)\n",
    "\n",
    "# convert the image back to RGB format and adjust the brighness and contrast after processing\n",
    "\n",
    "final = cv2.cvtColor(image_rgb, cv2.COLOR_BGR2RGB)\n",
    "final = cv2.convertScaleAbs(final, alpha=1, beta=0)  # Adjust alpha and beta as needed\n",
    "print('final dimensions : ',final.shape)\n",
    "\n",
    "# save the image with bounding boxes as image_detected.jpg\n",
    "cv2.imwrite('image_detected.jpg',final)"
   ]
  },
  {
   "cell_type": "code",
   "execution_count": 6,
   "metadata": {},
   "outputs": [],
   "source": [
    "folder_name = 'attendance_class'\n",
    "if not os.path.exists(folder_name):\n",
    "    os.mkdir(folder_name)\n",
    "# List all files in the folder\n",
    "file_list = os.listdir(folder_name)\n",
    "\n",
    "face_images = []\n",
    "\n",
    "# Iterate through the files and remove them\n",
    "for file in file_list:\n",
    "    file_path = os.path.join(folder_name, file)\n",
    "    if os.path.isfile(file_path):\n",
    "        os.remove(file_path)\n",
    "        \n",
    "# Save the cropped photos in the folder named attendance_class\n",
    "for (x, y, w, h) in faces:\n",
    "    face_crop = resized[y:y+h, x:x+w]\n",
    "    face_images.append(face_crop)\n",
    "    face_filename = os.path.join(folder_name, f'face_{x}_{y}.jpg')\n",
    "    cv2.imwrite(face_filename, face_crop)"
   ]
  },
  {
   "cell_type": "code",
   "execution_count": 8,
   "metadata": {},
   "outputs": [],
   "source": [
    "# Display the extracted face images\n",
    "\n",
    "for i, face in enumerate(face_images):\n",
    "    plt.subplot(1, len(face_images), i+1)\n",
    "    plt.imshow(face)\n",
    "    plt.axis('off')\n",
    "    \n",
    "plt.show()"
   ]
  },
  {
   "cell_type": "code",
   "execution_count": null,
   "metadata": {},
   "outputs": [],
   "source": []
  }
 ],
 "metadata": {
  "kernelspec": {
   "display_name": "Python 3.11.1 64-bit",
   "language": "python",
   "name": "python3"
  },
  "language_info": {
   "codemirror_mode": {
    "name": "ipython",
    "version": 3
   },
   "file_extension": ".py",
   "mimetype": "text/x-python",
   "name": "python",
   "nbconvert_exporter": "python",
   "pygments_lexer": "ipython3",
   "version": "3.12.4"
  },
  "vscode": {
   "interpreter": {
    "hash": "1f6a27bcfbe46a917dbd192f4a82657396dda26148bae633192e8d28c70725f1"
   }
  }
 },
 "nbformat": 4,
 "nbformat_minor": 4
}
